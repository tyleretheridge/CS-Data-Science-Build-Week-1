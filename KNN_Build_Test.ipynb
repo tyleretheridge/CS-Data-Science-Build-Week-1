{
  "nbformat": 4,
  "nbformat_minor": 0,
  "metadata": {
    "colab": {
      "name": "KNN_Build Test.ipynb",
      "provenance": [],
      "collapsed_sections": []
    },
    "kernelspec": {
      "name": "python3",
      "display_name": "Python 3"
    }
  },
  "cells": [
    {
      "cell_type": "markdown",
      "metadata": {
        "id": "MGedJv6jgDbs",
        "colab_type": "text"
      },
      "source": [
        "# Title"
      ]
    },
    {
      "cell_type": "markdown",
      "metadata": {
        "id": "PoWRrDKZgHbm",
        "colab_type": "text"
      },
      "source": [
        "## Imports"
      ]
    },
    {
      "cell_type": "code",
      "metadata": {
        "id": "_P3c5yLuhjA0",
        "colab_type": "code",
        "colab": {}
      },
      "source": [
        "%%capture\n",
        "!pip install category_encoders==2.*"
      ],
      "execution_count": null,
      "outputs": []
    },
    {
      "cell_type": "code",
      "metadata": {
        "id": "iDSinD6ZgDss",
        "colab_type": "code",
        "colab": {}
      },
      "source": [
        "import numpy as np\n",
        "import pandas as pd\n",
        "import category_encoders as ce\n",
        "from sklearn import datasets\n",
        "from sklearn.model_selection import train_test_split\n",
        "from sklearn.neighbors import KNeighborsClassifier\n",
        "from sklearn.metrics import accuracy_score"
      ],
      "execution_count": null,
      "outputs": []
    },
    {
      "cell_type": "markdown",
      "metadata": {
        "id": "PeDwPrn6f15C",
        "colab_type": "text"
      },
      "source": [
        "## My Classifier Algorithm"
      ]
    },
    {
      "cell_type": "code",
      "metadata": {
        "id": "BwsplrVTfxYw",
        "colab_type": "code",
        "colab": {}
      },
      "source": [
        "class TE_NearestNeighbor:\n",
        "    def __init__(self, n_neighbors=5, X_train=None, y_train=None):\n",
        "        self.k = n_neighbors\n",
        "\n",
        "    def calc_distance(self, vec_a, vec_b):\n",
        "        return np.linalg.norm(vec_a - vec_b)\n",
        "        \n",
        "    def calc_labels(self, x):\n",
        "        distance_list = list()\n",
        "        # For every entry in X_train\n",
        "        for x_train in self.X_train:\n",
        "            # Calculate distance between x (parameter) and each entry\n",
        "            distance_list.append(self.calc_distance(x,x_train)) \n",
        "        \n",
        "        # A list of length self.k of the indices of the closest points to\n",
        "        # input x. \n",
        "        k_index = np.argsort(distance_list)[:self.k]\n",
        "        k_labels = [self.y_train[idx] for idx in k_index]\n",
        "        # Return labels of k_neighbors\n",
        "        return k_labels\n",
        "\n",
        "    def calc_most_common_label(self, arr):\n",
        "        # Get the maximum number of class labels\n",
        "        maximum = len(set(self.y_train))\n",
        "        # list comprehension to create a buckets array\n",
        "        buckets = [0 for i in range(maximum + 1)]\n",
        "        # Count the labels and increment the buckets\n",
        "        for value in arr:\n",
        "            buckets[value] += 1\n",
        "        # Return the index of the largest bucket\n",
        "        # AKA return the label with the highest occurrence in the list\n",
        "        most_common_label = buckets.index(max(buckets))\n",
        "        \n",
        "        return most_common_label\n",
        "\n",
        "    def point_predict(self, x):\n",
        "        # Perform prediction routine on a single point\n",
        "        # Get labels of k neighbors\n",
        "        k_labels = self.calc_labels(x)\n",
        "        # Find most common label\n",
        "        predicted_label = self.calc_most_common_label(k_labels)\n",
        "        return predicted_label\n",
        "\n",
        "    def fit(self, X_train, y_train):\n",
        "        self.X_train = X_train\n",
        "        self.y_train = y_train\n",
        "\n",
        "    def predict(self, X_test):\n",
        "        # Perform self.point_predict on full array\n",
        "        # Return results in an np.array\n",
        "        labels = np.array([self.point_predict(x) for x in X_test])\n",
        "        return labels"
      ],
      "execution_count": null,
      "outputs": []
    },
    {
      "cell_type": "markdown",
      "metadata": {
        "id": "tyWchv12f3WM",
        "colab_type": "text"
      },
      "source": [
        "## Data Wrangle\n"
      ]
    },
    {
      "cell_type": "code",
      "metadata": {
        "id": "htPy3LH_f3rz",
        "colab_type": "code",
        "colab": {
          "base_uri": "https://localhost:8080/",
          "height": 198
        },
        "outputId": "edb12505-5a17-4a8d-8905-893bafd473be"
      },
      "source": [
        "# Import Iris-Setosa Dataset from SKL\n",
        "iris = datasets.load_iris()\n",
        "df = pd.DataFrame(iris.data, columns=iris.feature_names)\n",
        "df.head()"
      ],
      "execution_count": null,
      "outputs": [
        {
          "output_type": "execute_result",
          "data": {
            "text/html": [
              "<div>\n",
              "<style scoped>\n",
              "    .dataframe tbody tr th:only-of-type {\n",
              "        vertical-align: middle;\n",
              "    }\n",
              "\n",
              "    .dataframe tbody tr th {\n",
              "        vertical-align: top;\n",
              "    }\n",
              "\n",
              "    .dataframe thead th {\n",
              "        text-align: right;\n",
              "    }\n",
              "</style>\n",
              "<table border=\"1\" class=\"dataframe\">\n",
              "  <thead>\n",
              "    <tr style=\"text-align: right;\">\n",
              "      <th></th>\n",
              "      <th>sepal length (cm)</th>\n",
              "      <th>sepal width (cm)</th>\n",
              "      <th>petal length (cm)</th>\n",
              "      <th>petal width (cm)</th>\n",
              "    </tr>\n",
              "  </thead>\n",
              "  <tbody>\n",
              "    <tr>\n",
              "      <th>0</th>\n",
              "      <td>5.1</td>\n",
              "      <td>3.5</td>\n",
              "      <td>1.4</td>\n",
              "      <td>0.2</td>\n",
              "    </tr>\n",
              "    <tr>\n",
              "      <th>1</th>\n",
              "      <td>4.9</td>\n",
              "      <td>3.0</td>\n",
              "      <td>1.4</td>\n",
              "      <td>0.2</td>\n",
              "    </tr>\n",
              "    <tr>\n",
              "      <th>2</th>\n",
              "      <td>4.7</td>\n",
              "      <td>3.2</td>\n",
              "      <td>1.3</td>\n",
              "      <td>0.2</td>\n",
              "    </tr>\n",
              "    <tr>\n",
              "      <th>3</th>\n",
              "      <td>4.6</td>\n",
              "      <td>3.1</td>\n",
              "      <td>1.5</td>\n",
              "      <td>0.2</td>\n",
              "    </tr>\n",
              "    <tr>\n",
              "      <th>4</th>\n",
              "      <td>5.0</td>\n",
              "      <td>3.6</td>\n",
              "      <td>1.4</td>\n",
              "      <td>0.2</td>\n",
              "    </tr>\n",
              "  </tbody>\n",
              "</table>\n",
              "</div>"
            ],
            "text/plain": [
              "   sepal length (cm)  sepal width (cm)  petal length (cm)  petal width (cm)\n",
              "0                5.1               3.5                1.4               0.2\n",
              "1                4.9               3.0                1.4               0.2\n",
              "2                4.7               3.2                1.3               0.2\n",
              "3                4.6               3.1                1.5               0.2\n",
              "4                5.0               3.6                1.4               0.2"
            ]
          },
          "metadata": {
            "tags": []
          },
          "execution_count": 26
        }
      ]
    },
    {
      "cell_type": "code",
      "metadata": {
        "id": "8_J5gk8Hh7G9",
        "colab_type": "code",
        "colab": {}
      },
      "source": [
        "X, y =  iris.data, iris.target\n",
        "X_train, X_test, y_train, y_test = train_test_split(X, y, random_state=20)"
      ],
      "execution_count": null,
      "outputs": []
    },
    {
      "cell_type": "code",
      "metadata": {
        "id": "RPED7r9Th7Cp",
        "colab_type": "code",
        "colab": {
          "base_uri": "https://localhost:8080/",
          "height": 35
        },
        "outputId": "59b061be-844e-469e-dcfa-e939e761ffdf"
      },
      "source": [
        "type(y_test)"
      ],
      "execution_count": null,
      "outputs": [
        {
          "output_type": "execute_result",
          "data": {
            "text/plain": [
              "numpy.ndarray"
            ]
          },
          "metadata": {
            "tags": []
          },
          "execution_count": 28
        }
      ]
    },
    {
      "cell_type": "code",
      "metadata": {
        "id": "5VajXqkGh69N",
        "colab_type": "code",
        "colab": {}
      },
      "source": [
        ""
      ],
      "execution_count": null,
      "outputs": []
    },
    {
      "cell_type": "markdown",
      "metadata": {
        "id": "0u8K_-BmgSj5",
        "colab_type": "text"
      },
      "source": [
        "## TE_KNN Implementation"
      ]
    },
    {
      "cell_type": "code",
      "metadata": {
        "id": "t-TR3Bw0gx7L",
        "colab_type": "code",
        "colab": {}
      },
      "source": [
        "knn = TE_NearestNeighbor(n_neighbors=3)\n",
        "knn.fit(X_train, y_train)\n",
        "predicted_labels = knn.predict(X_test)"
      ],
      "execution_count": null,
      "outputs": []
    },
    {
      "cell_type": "code",
      "metadata": {
        "id": "ltkO9Vr46qDO",
        "colab_type": "code",
        "colab": {
          "base_uri": "https://localhost:8080/",
          "height": 35
        },
        "outputId": "6810cc09-3a89-4f3a-8922-b2f95240e038"
      },
      "source": [
        "my_accuracy = accuracy_score(y_test, predicted_labels)\n",
        "print(my_accuracy)"
      ],
      "execution_count": null,
      "outputs": [
        {
          "output_type": "stream",
          "text": [
            "0.9210526315789473\n"
          ],
          "name": "stdout"
        }
      ]
    },
    {
      "cell_type": "markdown",
      "metadata": {
        "id": "L2IiK_PKgSdx",
        "colab_type": "text"
      },
      "source": [
        "## SKL_KNN Implementation"
      ]
    },
    {
      "cell_type": "code",
      "metadata": {
        "id": "5K8FN8q1gxuI",
        "colab_type": "code",
        "colab": {}
      },
      "source": [
        "skl_knn = KNeighborsClassifier(n_neighbors=3)\n",
        "skl_knn.fit(X_train, y_train)\n",
        "skl_predictions = skl_knn.predict(X_test)"
      ],
      "execution_count": null,
      "outputs": []
    },
    {
      "cell_type": "code",
      "metadata": {
        "id": "KKSypFnh7hTM",
        "colab_type": "code",
        "colab": {
          "base_uri": "https://localhost:8080/",
          "height": 35
        },
        "outputId": "b7d286cd-6649-4274-e22a-73e41458f325"
      },
      "source": [
        "skl_accuracy = accuracy_score(y_test, skl_predictions)\n",
        "print(skl_accuracy)"
      ],
      "execution_count": null,
      "outputs": [
        {
          "output_type": "stream",
          "text": [
            "0.9210526315789473\n"
          ],
          "name": "stdout"
        }
      ]
    },
    {
      "cell_type": "markdown",
      "metadata": {
        "id": "-kBICP-5gSUb",
        "colab_type": "text"
      },
      "source": [
        "## Comparison"
      ]
    },
    {
      "cell_type": "markdown",
      "metadata": {
        "id": "qzgt5lmR7-QZ",
        "colab_type": "text"
      },
      "source": [
        "For a given k, my implementation matches the accuracy score of the scikit-learn implementation of the nearest neighbor algorithm. "
      ]
    },
    {
      "cell_type": "code",
      "metadata": {
        "id": "F49X24To8ILb",
        "colab_type": "code",
        "colab": {}
      },
      "source": [
        ""
      ],
      "execution_count": null,
      "outputs": []
    }
  ]
}